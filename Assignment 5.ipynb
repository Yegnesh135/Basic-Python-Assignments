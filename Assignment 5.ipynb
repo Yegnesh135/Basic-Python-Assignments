{
 "cells": [
  {
   "cell_type": "code",
   "execution_count": 13,
   "id": "ff9b4846",
   "metadata": {},
   "outputs": [],
   "source": [
    "def temp_f2c():\n",
    "    f = float(input('Enter the temperature in Fahrenheit:'))\n",
    "    c = round((f-32)*(5/9),2)\n",
    "    print('The temperature in Centigrade is:{0}'.format(c))"
   ]
  },
  {
   "cell_type": "code",
   "execution_count": 14,
   "id": "9f3f2ce4",
   "metadata": {
    "scrolled": true
   },
   "outputs": [
    {
     "name": "stdout",
     "output_type": "stream",
     "text": [
      "Enter the temperature in Fahrenheit:96.5\n",
      "The temperature in Centigrade is:35.83\n"
     ]
    }
   ],
   "source": [
    "temp_f2c()"
   ]
  },
  {
   "cell_type": "code",
   "execution_count": null,
   "id": "1c51dbd2",
   "metadata": {},
   "outputs": [],
   "source": []
  }
 ],
 "metadata": {
  "kernelspec": {
   "display_name": "Python 3 (ipykernel)",
   "language": "python",
   "name": "python3"
  },
  "language_info": {
   "codemirror_mode": {
    "name": "ipython",
    "version": 3
   },
   "file_extension": ".py",
   "mimetype": "text/x-python",
   "name": "python",
   "nbconvert_exporter": "python",
   "pygments_lexer": "ipython3",
   "version": "3.9.12"
  }
 },
 "nbformat": 4,
 "nbformat_minor": 5
}
