{
 "cells": [
  {
   "cell_type": "code",
   "execution_count": 3,
   "id": "9819db0e",
   "metadata": {},
   "outputs": [],
   "source": [
    "from math import pi\n",
    "def area_of_circle():\n",
    "    r = float(input('Enter the radius of the circle in feets:'))\n",
    "    a = round(pi*(r**2),2)\n",
    "    print('The area of circle under the given radius is {0}sqft'.format(a))"
   ]
  },
  {
   "cell_type": "code",
   "execution_count": 4,
   "id": "3ba769ca",
   "metadata": {},
   "outputs": [
    {
     "name": "stdout",
     "output_type": "stream",
     "text": [
      "Enter the radius of the circle in feets:5\n",
      "The area of circle under the given radius is 78.54sqft\n"
     ]
    }
   ],
   "source": [
    "area_of_circle()"
   ]
  },
  {
   "cell_type": "code",
   "execution_count": null,
   "id": "b7a28d0b",
   "metadata": {},
   "outputs": [],
   "source": []
  }
 ],
 "metadata": {
  "kernelspec": {
   "display_name": "Python 3 (ipykernel)",
   "language": "python",
   "name": "python3"
  },
  "language_info": {
   "codemirror_mode": {
    "name": "ipython",
    "version": 3
   },
   "file_extension": ".py",
   "mimetype": "text/x-python",
   "name": "python",
   "nbconvert_exporter": "python",
   "pygments_lexer": "ipython3",
   "version": "3.9.12"
  }
 },
 "nbformat": 4,
 "nbformat_minor": 5
}
