{
 "cells": [
  {
   "cell_type": "code",
   "execution_count": 1,
   "id": "f2ec7d86",
   "metadata": {},
   "outputs": [],
   "source": [
    "def total_amount(P,r,n):\n",
    "    r1 = r/100\n",
    "    a = (1+r1)**(n/12)\n",
    "    T = P*a\n",
    "    print(T)"
   ]
  },
  {
   "cell_type": "code",
   "execution_count": 2,
   "id": "3532d775",
   "metadata": {},
   "outputs": [
    {
     "name": "stdout",
     "output_type": "stream",
     "text": [
      "11576.250000000002\n"
     ]
    }
   ],
   "source": [
    "total_amount(10000,5,36)"
   ]
  },
  {
   "cell_type": "code",
   "execution_count": null,
   "id": "04313dd3",
   "metadata": {},
   "outputs": [],
   "source": []
  }
 ],
 "metadata": {
  "kernelspec": {
   "display_name": "Python 3 (ipykernel)",
   "language": "python",
   "name": "python3"
  },
  "language_info": {
   "codemirror_mode": {
    "name": "ipython",
    "version": 3
   },
   "file_extension": ".py",
   "mimetype": "text/x-python",
   "name": "python",
   "nbconvert_exporter": "python",
   "pygments_lexer": "ipython3",
   "version": "3.9.12"
  }
 },
 "nbformat": 4,
 "nbformat_minor": 5
}
