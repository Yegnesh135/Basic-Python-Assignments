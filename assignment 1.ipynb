{
 "cells": [
  {
   "cell_type": "code",
   "execution_count": 3,
   "id": "529d98bf",
   "metadata": {},
   "outputs": [],
   "source": [
    "def compute_quadratic_roots(a,b,c):\n",
    "    import cmath\n",
    "    d = (b*b)-(4*a*c)\n",
    "    d1 = cmath.sqrt(d)\n",
    "    x1 = ((-b-d1)/(2*a))\n",
    "    x2 = ((-b+d1)/(2*a))\n",
    "    print('the quadratic roots of the given equation are {0} and {1}' .format(x1,x2))"
   ]
  },
  {
   "cell_type": "code",
   "execution_count": 4,
   "id": "787007fd",
   "metadata": {},
   "outputs": [
    {
     "name": "stdout",
     "output_type": "stream",
     "text": [
      "the quadratic roots of the given equation are (-3+0j) and (-2+0j)\n"
     ]
    }
   ],
   "source": [
    "compute_quadratic_roots(1,5,6)"
   ]
  },
  {
   "cell_type": "code",
   "execution_count": 5,
   "id": "1e6a7034",
   "metadata": {},
   "outputs": [
    {
     "name": "stdout",
     "output_type": "stream",
     "text": [
      "the quadratic roots of the given equation are (-0.625-1.0532687216470449j) and (-0.625+1.0532687216470449j)\n"
     ]
    }
   ],
   "source": [
    "compute_quadratic_roots(4,5,6)"
   ]
  },
  {
   "cell_type": "code",
   "execution_count": 6,
   "id": "a42ad0f1",
   "metadata": {},
   "outputs": [
    {
     "name": "stdout",
     "output_type": "stream",
     "text": [
      "the quadratic roots of the given equation are (-0.625-1.0532687216470449j) and (-0.625+1.0532687216470449j)\n"
     ]
    }
   ],
   "source": [
    "compute_quadratic_roots(4,5,6)"
   ]
  },
  {
   "cell_type": "code",
   "execution_count": null,
   "id": "74ee5c8c",
   "metadata": {},
   "outputs": [],
   "source": []
  }
 ],
 "metadata": {
  "kernelspec": {
   "display_name": "Python 3 (ipykernel)",
   "language": "python",
   "name": "python3"
  },
  "language_info": {
   "codemirror_mode": {
    "name": "ipython",
    "version": 3
   },
   "file_extension": ".py",
   "mimetype": "text/x-python",
   "name": "python",
   "nbconvert_exporter": "python",
   "pygments_lexer": "ipython3",
   "version": "3.9.12"
  }
 },
 "nbformat": 4,
 "nbformat_minor": 5
}
