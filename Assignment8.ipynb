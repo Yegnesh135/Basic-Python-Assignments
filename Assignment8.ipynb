{
 "cells": [
  {
   "cell_type": "code",
   "execution_count": 5,
   "id": "d08bcac8",
   "metadata": {},
   "outputs": [],
   "source": [
    "from math import pi\n",
    "def volume_of_cylinder():\n",
    "    r = float(input('Enter the radius of the circle in feets:'))\n",
    "    h = float(input('Enter the height of the cylinder in feets:'))\n",
    "    a = pi*(r**2)\n",
    "    v = round(a*h,2)\n",
    "    print('The area of circle under the given radius is {0}c.ft'.format(v))"
   ]
  },
  {
   "cell_type": "code",
   "execution_count": 6,
   "id": "c44ffc37",
   "metadata": {},
   "outputs": [
    {
     "name": "stdout",
     "output_type": "stream",
     "text": [
      "Enter the radius of the circle in feets:25\n",
      "Enter the height of the cylinder in feets:5\n",
      "The area of circle under the given radius is 9817.48c.ft\n"
     ]
    }
   ],
   "source": [
    "volume_of_cylinder()"
   ]
  },
  {
   "cell_type": "code",
   "execution_count": null,
   "id": "d829ce46",
   "metadata": {},
   "outputs": [],
   "source": []
  }
 ],
 "metadata": {
  "kernelspec": {
   "display_name": "Python 3 (ipykernel)",
   "language": "python",
   "name": "python3"
  },
  "language_info": {
   "codemirror_mode": {
    "name": "ipython",
    "version": 3
   },
   "file_extension": ".py",
   "mimetype": "text/x-python",
   "name": "python",
   "nbconvert_exporter": "python",
   "pygments_lexer": "ipython3",
   "version": "3.9.12"
  }
 },
 "nbformat": 4,
 "nbformat_minor": 5
}
