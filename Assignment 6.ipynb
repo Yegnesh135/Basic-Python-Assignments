{
 "cells": [
  {
   "cell_type": "code",
   "execution_count": 5,
   "id": "4d5290f2",
   "metadata": {},
   "outputs": [],
   "source": [
    "def temp_c2f():\n",
    "    c = float(input('Enter the temperature in Centigrade:'))\n",
    "    f = round((((9/5)*c)+32),2)\n",
    "    print('The temperature in Fahrenheit is:{0}'.format(f))"
   ]
  },
  {
   "cell_type": "code",
   "execution_count": 6,
   "id": "818ebdb1",
   "metadata": {},
   "outputs": [
    {
     "name": "stdout",
     "output_type": "stream",
     "text": [
      "Enter the temperature in Centigrade:45\n",
      "The temperature in Fahrenheit is:113.0\n"
     ]
    }
   ],
   "source": [
    "temp_c2f()"
   ]
  },
  {
   "cell_type": "code",
   "execution_count": null,
   "id": "8ce2835d",
   "metadata": {},
   "outputs": [],
   "source": []
  }
 ],
 "metadata": {
  "kernelspec": {
   "display_name": "Python 3 (ipykernel)",
   "language": "python",
   "name": "python3"
  },
  "language_info": {
   "codemirror_mode": {
    "name": "ipython",
    "version": 3
   },
   "file_extension": ".py",
   "mimetype": "text/x-python",
   "name": "python",
   "nbconvert_exporter": "python",
   "pygments_lexer": "ipython3",
   "version": "3.9.12"
  }
 },
 "nbformat": 4,
 "nbformat_minor": 5
}
